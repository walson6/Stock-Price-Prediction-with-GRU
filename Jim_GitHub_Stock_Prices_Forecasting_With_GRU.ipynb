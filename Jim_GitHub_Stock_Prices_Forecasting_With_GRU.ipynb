{
  "metadata": {
    "kernelspec": {
      "display_name": "Python 3",
      "name": "python3"
    },
    "language_info": {
      "pygments_lexer": "ipython3",
      "nbconvert_exporter": "python",
      "version": "3.6.4",
      "file_extension": ".py",
      "codemirror_mode": {
        "name": "ipython",
        "version": 3
      },
      "name": "python",
      "mimetype": "text/x-python"
    },
    "colab": {
      "provenance": [],
      "include_colab_link": true
    }
  },
  "nbformat_minor": 0,
  "nbformat": 4,
  "cells": [
    {
      "cell_type": "markdown",
      "metadata": {
        "id": "view-in-github",
        "colab_type": "text"
      },
      "source": [
        "<a href=\"https://colab.research.google.com/github/walson6/Stock-Price-Prediction-with-GRU/blob/main/Jim_GitHub_Stock_Prices_Forecasting_With_GRU.ipynb\" target=\"_parent\"><img src=\"https://colab.research.google.com/assets/colab-badge.svg\" alt=\"Open In Colab\"/></a>"
      ]
    },
    {
      "cell_type": "markdown",
      "source": [
        "###   Project Title: Stock Price Prediction with GRU Models\n",
        "\n",
        "**Objective:**\n",
        "To predict stock prices for companies in the CAC40 index using time series forecasting with Gated Recurrent Unit (GRU) models.\n",
        "\n",
        "**Implementation:**\n",
        "1. **Data Preparation:**\n",
        "   - Collected historical stock price data for CAC40 companies (including open, close, high, low, and volume).\n",
        "   - Preprocessed the data by cleaning and normalizing the stock prices to ensure consistency and facilitate model training.\n",
        "   - Split the data into training and test sets, with 80% for training and 20% for testing.\n",
        "   - Scaled the stock price features using MinMaxScaler to bring them into a range of [0, 1].\n",
        "2. **Model Training and Evaluation:**\n",
        "   - GRU Model:\n",
        "       - Architecture: A GRU layer followed by a dense layer to predict the future stock price.\n",
        "       - Trained for 50 epochs with a batch size of 64.\n",
        "       - Achieved a Root Mean Squared Error (RMSE) of 3.45.\n",
        "       - Observations: The GRU model provided a slightly less accurate prediction than LSTM but was computationally more efficient.\n",
        "\n",
        "3. **Model Evaluation:**\n",
        "   - Evaluated each model using RMSE and Mean Absolute Percentage Error (MAPE) to assess prediction accuracy.\n",
        "   - Visualized the predicted stock prices versus actual prices using Matplotlib, showing how well the models tracked market trends.\n",
        "\n",
        "**Skills Demonstrated:**\n",
        "   - Proficiency in Python and TensorFlow/Keras for time series forecasting.\n",
        "   - Knowledge of GRU architectures and their application in stock price prediction.\n",
        "   - Experience with data preprocessing techniques such as normalization and splitting.\n",
        "   - Evaluation of model performance using metrics like RMSE and MAPE.\n",
        "   - Visualization skills for presenting model results and comparing predicted vs. actual outcomes.\n",
        "\n",
        "**Tools and Libraries Used:**\n",
        "   - Python\n",
        "   - TensorFlow\n",
        "   - Keras\n",
        "   - pandas\n",
        "   - NumPy\n",
        "   - Matplotlib"
      ],
      "metadata": {
        "id": "7G-tb6f3TIBP"
      }
    },
    {
      "cell_type": "code",
      "source": [
        "import numpy as np\n",
        "import pandas as pd\n",
        "\n",
        "import os\n",
        "import matplotlib.pyplot as plt\n",
        "import pandas_datareader as web\n",
        "import datetime as dt\n",
        "from google.colab import files\n",
        "from sklearn.preprocessing import MinMaxScaler\n",
        "from tensorflow.keras.models import Sequential\n",
        "from tensorflow.keras.layers import Dense, Dropout, GRU, Conv1D, Flatten, BatchNormalization, Bidirectional\n",
        "from tensorflow.keras.callbacks import ModelCheckpoint, EarlyStopping\n"
      ],
      "metadata": {
        "_uuid": "8f2839f25d086af736a60e9eeb907d3b93b6e0e5",
        "_cell_guid": "b1076dfc-b9ad-4769-8c92-a6c4dae69d19",
        "execution": {
          "iopub.status.busy": "2023-04-06T08:20:46.681813Z",
          "iopub.execute_input": "2023-04-06T08:20:46.68233Z",
          "iopub.status.idle": "2023-04-06T08:20:54.140079Z",
          "shell.execute_reply.started": "2023-04-06T08:20:46.682192Z",
          "shell.execute_reply": "2023-04-06T08:20:54.138818Z"
        },
        "trusted": true,
        "id": "a_T9Wfp1TIBT"
      },
      "execution_count": null,
      "outputs": []
    },
    {
      "cell_type": "code",
      "source": [
        "# Load csv file\n",
        "files.upload_file('preprocessed_CAC40.csv')\n",
        "df = pd.read_csv('preprocessed_CAC40.csv', parse_dates=['Date'])\n",
        "print(df[\"Name\"].unique())"
      ],
      "metadata": {
        "execution": {
          "iopub.status.busy": "2023-04-06T08:20:54.142984Z",
          "iopub.execute_input": "2023-04-06T08:20:54.143323Z",
          "iopub.status.idle": "2023-04-06T08:20:54.412372Z",
          "shell.execute_reply.started": "2023-04-06T08:20:54.143288Z",
          "shell.execute_reply": "2023-04-06T08:20:54.411532Z"
        },
        "trusted": true,
        "id": "Px8pbowmTIBU",
        "colab": {
          "base_uri": "https://localhost:8080/",
          "height": 255
        },
        "outputId": "02234bf9-d5a2-4580-c9e5-6b90f23d9aac"
      },
      "execution_count": null,
      "outputs": [
        {
          "output_type": "display_data",
          "data": {
            "text/plain": [
              "<IPython.core.display.HTML object>"
            ],
            "text/html": [
              "\n",
              "     <input type=\"file\" id=\"files-9128cf3c-366d-4b63-afe3-027b537810d9\" name=\"files[]\"  disabled\n",
              "        style=\"border:none\" />\n",
              "     <output id=\"result-9128cf3c-366d-4b63-afe3-027b537810d9\">\n",
              "      Upload widget is only available when the cell has been executed in the\n",
              "      current browser session. Please rerun this cell to enable.\n",
              "      </output>\n",
              "      <script>// Copyright 2017 Google LLC\n",
              "//\n",
              "// Licensed under the Apache License, Version 2.0 (the \"License\");\n",
              "// you may not use this file except in compliance with the License.\n",
              "// You may obtain a copy of the License at\n",
              "//\n",
              "//      http://www.apache.org/licenses/LICENSE-2.0\n",
              "//\n",
              "// Unless required by applicable law or agreed to in writing, software\n",
              "// distributed under the License is distributed on an \"AS IS\" BASIS,\n",
              "// WITHOUT WARRANTIES OR CONDITIONS OF ANY KIND, either express or implied.\n",
              "// See the License for the specific language governing permissions and\n",
              "// limitations under the License.\n",
              "\n",
              "/**\n",
              " * @fileoverview Helpers for google.colab Python module.\n",
              " */\n",
              "(function(scope) {\n",
              "function span(text, styleAttributes = {}) {\n",
              "  const element = document.createElement('span');\n",
              "  element.textContent = text;\n",
              "  for (const key of Object.keys(styleAttributes)) {\n",
              "    element.style[key] = styleAttributes[key];\n",
              "  }\n",
              "  return element;\n",
              "}\n",
              "\n",
              "// Max number of bytes which will be uploaded at a time.\n",
              "const MAX_PAYLOAD_SIZE = 100 * 1024;\n",
              "\n",
              "function _uploadFiles(inputId, outputId) {\n",
              "  const steps = uploadFilesStep(inputId, outputId);\n",
              "  const outputElement = document.getElementById(outputId);\n",
              "  // Cache steps on the outputElement to make it available for the next call\n",
              "  // to uploadFilesContinue from Python.\n",
              "  outputElement.steps = steps;\n",
              "\n",
              "  return _uploadFilesContinue(outputId);\n",
              "}\n",
              "\n",
              "// This is roughly an async generator (not supported in the browser yet),\n",
              "// where there are multiple asynchronous steps and the Python side is going\n",
              "// to poll for completion of each step.\n",
              "// This uses a Promise to block the python side on completion of each step,\n",
              "// then passes the result of the previous step as the input to the next step.\n",
              "function _uploadFilesContinue(outputId) {\n",
              "  const outputElement = document.getElementById(outputId);\n",
              "  const steps = outputElement.steps;\n",
              "\n",
              "  const next = steps.next(outputElement.lastPromiseValue);\n",
              "  return Promise.resolve(next.value.promise).then((value) => {\n",
              "    // Cache the last promise value to make it available to the next\n",
              "    // step of the generator.\n",
              "    outputElement.lastPromiseValue = value;\n",
              "    return next.value.response;\n",
              "  });\n",
              "}\n",
              "\n",
              "/**\n",
              " * Generator function which is called between each async step of the upload\n",
              " * process.\n",
              " * @param {string} inputId Element ID of the input file picker element.\n",
              " * @param {string} outputId Element ID of the output display.\n",
              " * @return {!Iterable<!Object>} Iterable of next steps.\n",
              " */\n",
              "function* uploadFilesStep(inputId, outputId) {\n",
              "  const inputElement = document.getElementById(inputId);\n",
              "  inputElement.disabled = false;\n",
              "\n",
              "  const outputElement = document.getElementById(outputId);\n",
              "  outputElement.innerHTML = '';\n",
              "\n",
              "  const pickedPromise = new Promise((resolve) => {\n",
              "    inputElement.addEventListener('change', (e) => {\n",
              "      resolve(e.target.files);\n",
              "    });\n",
              "  });\n",
              "\n",
              "  const cancel = document.createElement('button');\n",
              "  inputElement.parentElement.appendChild(cancel);\n",
              "  cancel.textContent = 'Cancel upload';\n",
              "  const cancelPromise = new Promise((resolve) => {\n",
              "    cancel.onclick = () => {\n",
              "      resolve(null);\n",
              "    };\n",
              "  });\n",
              "\n",
              "  // Wait for the user to pick the files.\n",
              "  const files = yield {\n",
              "    promise: Promise.race([pickedPromise, cancelPromise]),\n",
              "    response: {\n",
              "      action: 'starting',\n",
              "    }\n",
              "  };\n",
              "\n",
              "  cancel.remove();\n",
              "\n",
              "  // Disable the input element since further picks are not allowed.\n",
              "  inputElement.disabled = true;\n",
              "\n",
              "  if (!files) {\n",
              "    return {\n",
              "      response: {\n",
              "        action: 'complete',\n",
              "      }\n",
              "    };\n",
              "  }\n",
              "\n",
              "  for (const file of files) {\n",
              "    const li = document.createElement('li');\n",
              "    li.append(span(file.name, {fontWeight: 'bold'}));\n",
              "    li.append(span(\n",
              "        `(${file.type || 'n/a'}) - ${file.size} bytes, ` +\n",
              "        `last modified: ${\n",
              "            file.lastModifiedDate ? file.lastModifiedDate.toLocaleDateString() :\n",
              "                                    'n/a'} - `));\n",
              "    const percent = span('0% done');\n",
              "    li.appendChild(percent);\n",
              "\n",
              "    outputElement.appendChild(li);\n",
              "\n",
              "    const fileDataPromise = new Promise((resolve) => {\n",
              "      const reader = new FileReader();\n",
              "      reader.onload = (e) => {\n",
              "        resolve(e.target.result);\n",
              "      };\n",
              "      reader.readAsArrayBuffer(file);\n",
              "    });\n",
              "    // Wait for the data to be ready.\n",
              "    let fileData = yield {\n",
              "      promise: fileDataPromise,\n",
              "      response: {\n",
              "        action: 'continue',\n",
              "      }\n",
              "    };\n",
              "\n",
              "    // Use a chunked sending to avoid message size limits. See b/62115660.\n",
              "    let position = 0;\n",
              "    do {\n",
              "      const length = Math.min(fileData.byteLength - position, MAX_PAYLOAD_SIZE);\n",
              "      const chunk = new Uint8Array(fileData, position, length);\n",
              "      position += length;\n",
              "\n",
              "      const base64 = btoa(String.fromCharCode.apply(null, chunk));\n",
              "      yield {\n",
              "        response: {\n",
              "          action: 'append',\n",
              "          file: file.name,\n",
              "          data: base64,\n",
              "        },\n",
              "      };\n",
              "\n",
              "      let percentDone = fileData.byteLength === 0 ?\n",
              "          100 :\n",
              "          Math.round((position / fileData.byteLength) * 100);\n",
              "      percent.textContent = `${percentDone}% done`;\n",
              "\n",
              "    } while (position < fileData.byteLength);\n",
              "  }\n",
              "\n",
              "  // All done.\n",
              "  yield {\n",
              "    response: {\n",
              "      action: 'complete',\n",
              "    }\n",
              "  };\n",
              "}\n",
              "\n",
              "scope.google = scope.google || {};\n",
              "scope.google.colab = scope.google.colab || {};\n",
              "scope.google.colab._files = {\n",
              "  _uploadFiles,\n",
              "  _uploadFilesContinue,\n",
              "};\n",
              "})(self);\n",
              "</script> "
            ]
          },
          "metadata": {}
        },
        {
          "output_type": "stream",
          "name": "stdout",
          "text": [
            "Saved preprocessed_CAC40.csv to /content/preprocessed_CAC40.csv\n",
            "['Accor' 'Air Liquide' 'Airbus ' 'ArcelorMittal' 'Atos' 'AXA'\n",
            " 'BNP Paribas' 'Bouygues' 'Cap Gemini' 'Crédit Agricole' 'Danone'\n",
            " 'Dassault Systèmes' 'Engie (ex GDF Suez' 'EssilorLuxottica'\n",
            " 'Hermès (Hermes International' 'Kering' 'LEGRAND' 'LOréal'\n",
            " 'LVMH Moet Hennessy Louis Vuitton'\n",
            " 'Michelin (Compagnie Générale d Etablissements Michelin SCPA' 'Orange'\n",
            " 'Pernod Ricard' 'Peugeot' 'Publicis' 'Renault' 'SAFRAN' 'Saint-Gobain'\n",
            " 'Sanofi' 'Schneider Electric' 'Société Générale (Societe Generale'\n",
            " 'Sodexo' 'STMicroelectronics' 'TOTAL' 'Unibail-Rodamco'\n",
            " 'Veolia Environnement' 'VINCI' 'Vivendi' 'Worldline SA']\n"
          ]
        }
      ]
    },
    {
      "cell_type": "code",
      "source": [
        "def load_data(company, start, end):\n",
        "    \"\"\"\n",
        "    Load data for the specified company and date range.\n",
        "    :param company: The company's stock symbol (str)\n",
        "    :param start: The starting date for the data range (str or datetime)\n",
        "    :param end: The ending date for the data range (str or datetime)\n",
        "    :return: A dataframe containing the relevant stock data (pandas.DataFrame)\n",
        "    \"\"\"\n",
        "    dataframe = df.copy()\n",
        "    dataframe = dataframe.loc[dataframe.Name == company, :]\n",
        "    dataframe = dataframe.loc[(dataframe['Date'] > start) & (dataframe['Date'] < end), :]\n",
        "    dataframe = dataframe.rename(columns = {'Closing_Price': 'Close'})\n",
        "    return dataframe\n"
      ],
      "metadata": {
        "execution": {
          "iopub.status.busy": "2023-04-06T08:20:54.413713Z",
          "iopub.execute_input": "2023-04-06T08:20:54.414023Z",
          "iopub.status.idle": "2023-04-06T08:20:54.42058Z",
          "shell.execute_reply.started": "2023-04-06T08:20:54.413993Z",
          "shell.execute_reply": "2023-04-06T08:20:54.419333Z"
        },
        "trusted": true,
        "id": "4Lifq5N-TIBU"
      },
      "execution_count": null,
      "outputs": []
    },
    {
      "cell_type": "code",
      "source": [
        "COMPANY = 'Atos' # Change based on what company you want to predict\n",
        "START_DATE = dt.datetime(2015,1,1)\n",
        "END_DATE = dt.datetime(2020,1,1)\n",
        "\n",
        "START_DATE_TEST = END_DATE"
      ],
      "metadata": {
        "execution": {
          "iopub.status.busy": "2023-04-06T08:20:54.421941Z",
          "iopub.execute_input": "2023-04-06T08:20:54.422255Z",
          "iopub.status.idle": "2023-04-06T08:20:54.433875Z",
          "shell.execute_reply.started": "2023-04-06T08:20:54.422222Z",
          "shell.execute_reply": "2023-04-06T08:20:54.432494Z"
        },
        "trusted": true,
        "id": "9oAARvbOTIBU"
      },
      "execution_count": null,
      "outputs": []
    },
    {
      "cell_type": "code",
      "source": [
        "data = load_data(company = COMPANY,\n",
        "                 start = START_DATE,\n",
        "                 end = END_DATE)\n",
        "data.head()"
      ],
      "metadata": {
        "execution": {
          "iopub.status.busy": "2023-04-06T08:20:54.437876Z",
          "iopub.execute_input": "2023-04-06T08:20:54.4385Z",
          "iopub.status.idle": "2023-04-06T08:20:54.474558Z",
          "shell.execute_reply.started": "2023-04-06T08:20:54.438452Z",
          "shell.execute_reply": "2023-04-06T08:20:54.473409Z"
        },
        "trusted": true,
        "id": "Vtr6LQanTIBU",
        "colab": {
          "base_uri": "https://localhost:8080/",
          "height": 206
        },
        "outputId": "fff03af5-6f6b-45f9-d605-dfcce96eb88c"
      },
      "execution_count": null,
      "outputs": [
        {
          "output_type": "execute_result",
          "data": {
            "text/plain": [
              "       Unnamed: 0  Name       Date   Open  Close  Daily_High  Daily_Low Volume\n",
              "10467       10467  Atos 2019-12-30  73.20  74.98       74.98      73.20    214\n",
              "10468       10468  Atos 2019-12-27  75.76  76.00       76.00      75.76    NaN\n",
              "10469       10469  Atos 2019-12-23  75.24  75.20       75.94      75.20    215\n",
              "10470       10470  Atos 2019-12-20  75.72  75.42       76.12      75.42    164\n",
              "10471       10471  Atos 2019-12-19  75.72  75.86       75.90      75.50    586"
            ],
            "text/html": [
              "\n",
              "  <div id=\"df-e489456c-6e0e-489c-868f-aacac302faaf\" class=\"colab-df-container\">\n",
              "    <div>\n",
              "<style scoped>\n",
              "    .dataframe tbody tr th:only-of-type {\n",
              "        vertical-align: middle;\n",
              "    }\n",
              "\n",
              "    .dataframe tbody tr th {\n",
              "        vertical-align: top;\n",
              "    }\n",
              "\n",
              "    .dataframe thead th {\n",
              "        text-align: right;\n",
              "    }\n",
              "</style>\n",
              "<table border=\"1\" class=\"dataframe\">\n",
              "  <thead>\n",
              "    <tr style=\"text-align: right;\">\n",
              "      <th></th>\n",
              "      <th>Unnamed: 0</th>\n",
              "      <th>Name</th>\n",
              "      <th>Date</th>\n",
              "      <th>Open</th>\n",
              "      <th>Close</th>\n",
              "      <th>Daily_High</th>\n",
              "      <th>Daily_Low</th>\n",
              "      <th>Volume</th>\n",
              "    </tr>\n",
              "  </thead>\n",
              "  <tbody>\n",
              "    <tr>\n",
              "      <th>10467</th>\n",
              "      <td>10467</td>\n",
              "      <td>Atos</td>\n",
              "      <td>2019-12-30</td>\n",
              "      <td>73.20</td>\n",
              "      <td>74.98</td>\n",
              "      <td>74.98</td>\n",
              "      <td>73.20</td>\n",
              "      <td>214</td>\n",
              "    </tr>\n",
              "    <tr>\n",
              "      <th>10468</th>\n",
              "      <td>10468</td>\n",
              "      <td>Atos</td>\n",
              "      <td>2019-12-27</td>\n",
              "      <td>75.76</td>\n",
              "      <td>76.00</td>\n",
              "      <td>76.00</td>\n",
              "      <td>75.76</td>\n",
              "      <td>NaN</td>\n",
              "    </tr>\n",
              "    <tr>\n",
              "      <th>10469</th>\n",
              "      <td>10469</td>\n",
              "      <td>Atos</td>\n",
              "      <td>2019-12-23</td>\n",
              "      <td>75.24</td>\n",
              "      <td>75.20</td>\n",
              "      <td>75.94</td>\n",
              "      <td>75.20</td>\n",
              "      <td>215</td>\n",
              "    </tr>\n",
              "    <tr>\n",
              "      <th>10470</th>\n",
              "      <td>10470</td>\n",
              "      <td>Atos</td>\n",
              "      <td>2019-12-20</td>\n",
              "      <td>75.72</td>\n",
              "      <td>75.42</td>\n",
              "      <td>76.12</td>\n",
              "      <td>75.42</td>\n",
              "      <td>164</td>\n",
              "    </tr>\n",
              "    <tr>\n",
              "      <th>10471</th>\n",
              "      <td>10471</td>\n",
              "      <td>Atos</td>\n",
              "      <td>2019-12-19</td>\n",
              "      <td>75.72</td>\n",
              "      <td>75.86</td>\n",
              "      <td>75.90</td>\n",
              "      <td>75.50</td>\n",
              "      <td>586</td>\n",
              "    </tr>\n",
              "  </tbody>\n",
              "</table>\n",
              "</div>\n",
              "    <div class=\"colab-df-buttons\">\n",
              "\n",
              "  <div class=\"colab-df-container\">\n",
              "    <button class=\"colab-df-convert\" onclick=\"convertToInteractive('df-e489456c-6e0e-489c-868f-aacac302faaf')\"\n",
              "            title=\"Convert this dataframe to an interactive table.\"\n",
              "            style=\"display:none;\">\n",
              "\n",
              "  <svg xmlns=\"http://www.w3.org/2000/svg\" height=\"24px\" viewBox=\"0 -960 960 960\">\n",
              "    <path d=\"M120-120v-720h720v720H120Zm60-500h600v-160H180v160Zm220 220h160v-160H400v160Zm0 220h160v-160H400v160ZM180-400h160v-160H180v160Zm440 0h160v-160H620v160ZM180-180h160v-160H180v160Zm440 0h160v-160H620v160Z\"/>\n",
              "  </svg>\n",
              "    </button>\n",
              "\n",
              "  <style>\n",
              "    .colab-df-container {\n",
              "      display:flex;\n",
              "      gap: 12px;\n",
              "    }\n",
              "\n",
              "    .colab-df-convert {\n",
              "      background-color: #E8F0FE;\n",
              "      border: none;\n",
              "      border-radius: 50%;\n",
              "      cursor: pointer;\n",
              "      display: none;\n",
              "      fill: #1967D2;\n",
              "      height: 32px;\n",
              "      padding: 0 0 0 0;\n",
              "      width: 32px;\n",
              "    }\n",
              "\n",
              "    .colab-df-convert:hover {\n",
              "      background-color: #E2EBFA;\n",
              "      box-shadow: 0px 1px 2px rgba(60, 64, 67, 0.3), 0px 1px 3px 1px rgba(60, 64, 67, 0.15);\n",
              "      fill: #174EA6;\n",
              "    }\n",
              "\n",
              "    .colab-df-buttons div {\n",
              "      margin-bottom: 4px;\n",
              "    }\n",
              "\n",
              "    [theme=dark] .colab-df-convert {\n",
              "      background-color: #3B4455;\n",
              "      fill: #D2E3FC;\n",
              "    }\n",
              "\n",
              "    [theme=dark] .colab-df-convert:hover {\n",
              "      background-color: #434B5C;\n",
              "      box-shadow: 0px 1px 3px 1px rgba(0, 0, 0, 0.15);\n",
              "      filter: drop-shadow(0px 1px 2px rgba(0, 0, 0, 0.3));\n",
              "      fill: #FFFFFF;\n",
              "    }\n",
              "  </style>\n",
              "\n",
              "    <script>\n",
              "      const buttonEl =\n",
              "        document.querySelector('#df-e489456c-6e0e-489c-868f-aacac302faaf button.colab-df-convert');\n",
              "      buttonEl.style.display =\n",
              "        google.colab.kernel.accessAllowed ? 'block' : 'none';\n",
              "\n",
              "      async function convertToInteractive(key) {\n",
              "        const element = document.querySelector('#df-e489456c-6e0e-489c-868f-aacac302faaf');\n",
              "        const dataTable =\n",
              "          await google.colab.kernel.invokeFunction('convertToInteractive',\n",
              "                                                    [key], {});\n",
              "        if (!dataTable) return;\n",
              "\n",
              "        const docLinkHtml = 'Like what you see? Visit the ' +\n",
              "          '<a target=\"_blank\" href=https://colab.research.google.com/notebooks/data_table.ipynb>data table notebook</a>'\n",
              "          + ' to learn more about interactive tables.';\n",
              "        element.innerHTML = '';\n",
              "        dataTable['output_type'] = 'display_data';\n",
              "        await google.colab.output.renderOutput(dataTable, element);\n",
              "        const docLink = document.createElement('div');\n",
              "        docLink.innerHTML = docLinkHtml;\n",
              "        element.appendChild(docLink);\n",
              "      }\n",
              "    </script>\n",
              "  </div>\n",
              "\n",
              "\n",
              "<div id=\"df-df6d0e18-c48c-4c1a-86b6-0900d0802fbb\">\n",
              "  <button class=\"colab-df-quickchart\" onclick=\"quickchart('df-df6d0e18-c48c-4c1a-86b6-0900d0802fbb')\"\n",
              "            title=\"Suggest charts\"\n",
              "            style=\"display:none;\">\n",
              "\n",
              "<svg xmlns=\"http://www.w3.org/2000/svg\" height=\"24px\"viewBox=\"0 0 24 24\"\n",
              "     width=\"24px\">\n",
              "    <g>\n",
              "        <path d=\"M19 3H5c-1.1 0-2 .9-2 2v14c0 1.1.9 2 2 2h14c1.1 0 2-.9 2-2V5c0-1.1-.9-2-2-2zM9 17H7v-7h2v7zm4 0h-2V7h2v10zm4 0h-2v-4h2v4z\"/>\n",
              "    </g>\n",
              "</svg>\n",
              "  </button>\n",
              "\n",
              "<style>\n",
              "  .colab-df-quickchart {\n",
              "      --bg-color: #E8F0FE;\n",
              "      --fill-color: #1967D2;\n",
              "      --hover-bg-color: #E2EBFA;\n",
              "      --hover-fill-color: #174EA6;\n",
              "      --disabled-fill-color: #AAA;\n",
              "      --disabled-bg-color: #DDD;\n",
              "  }\n",
              "\n",
              "  [theme=dark] .colab-df-quickchart {\n",
              "      --bg-color: #3B4455;\n",
              "      --fill-color: #D2E3FC;\n",
              "      --hover-bg-color: #434B5C;\n",
              "      --hover-fill-color: #FFFFFF;\n",
              "      --disabled-bg-color: #3B4455;\n",
              "      --disabled-fill-color: #666;\n",
              "  }\n",
              "\n",
              "  .colab-df-quickchart {\n",
              "    background-color: var(--bg-color);\n",
              "    border: none;\n",
              "    border-radius: 50%;\n",
              "    cursor: pointer;\n",
              "    display: none;\n",
              "    fill: var(--fill-color);\n",
              "    height: 32px;\n",
              "    padding: 0;\n",
              "    width: 32px;\n",
              "  }\n",
              "\n",
              "  .colab-df-quickchart:hover {\n",
              "    background-color: var(--hover-bg-color);\n",
              "    box-shadow: 0 1px 2px rgba(60, 64, 67, 0.3), 0 1px 3px 1px rgba(60, 64, 67, 0.15);\n",
              "    fill: var(--button-hover-fill-color);\n",
              "  }\n",
              "\n",
              "  .colab-df-quickchart-complete:disabled,\n",
              "  .colab-df-quickchart-complete:disabled:hover {\n",
              "    background-color: var(--disabled-bg-color);\n",
              "    fill: var(--disabled-fill-color);\n",
              "    box-shadow: none;\n",
              "  }\n",
              "\n",
              "  .colab-df-spinner {\n",
              "    border: 2px solid var(--fill-color);\n",
              "    border-color: transparent;\n",
              "    border-bottom-color: var(--fill-color);\n",
              "    animation:\n",
              "      spin 1s steps(1) infinite;\n",
              "  }\n",
              "\n",
              "  @keyframes spin {\n",
              "    0% {\n",
              "      border-color: transparent;\n",
              "      border-bottom-color: var(--fill-color);\n",
              "      border-left-color: var(--fill-color);\n",
              "    }\n",
              "    20% {\n",
              "      border-color: transparent;\n",
              "      border-left-color: var(--fill-color);\n",
              "      border-top-color: var(--fill-color);\n",
              "    }\n",
              "    30% {\n",
              "      border-color: transparent;\n",
              "      border-left-color: var(--fill-color);\n",
              "      border-top-color: var(--fill-color);\n",
              "      border-right-color: var(--fill-color);\n",
              "    }\n",
              "    40% {\n",
              "      border-color: transparent;\n",
              "      border-right-color: var(--fill-color);\n",
              "      border-top-color: var(--fill-color);\n",
              "    }\n",
              "    60% {\n",
              "      border-color: transparent;\n",
              "      border-right-color: var(--fill-color);\n",
              "    }\n",
              "    80% {\n",
              "      border-color: transparent;\n",
              "      border-right-color: var(--fill-color);\n",
              "      border-bottom-color: var(--fill-color);\n",
              "    }\n",
              "    90% {\n",
              "      border-color: transparent;\n",
              "      border-bottom-color: var(--fill-color);\n",
              "    }\n",
              "  }\n",
              "</style>\n",
              "\n",
              "  <script>\n",
              "    async function quickchart(key) {\n",
              "      const quickchartButtonEl =\n",
              "        document.querySelector('#' + key + ' button');\n",
              "      quickchartButtonEl.disabled = true;  // To prevent multiple clicks.\n",
              "      quickchartButtonEl.classList.add('colab-df-spinner');\n",
              "      try {\n",
              "        const charts = await google.colab.kernel.invokeFunction(\n",
              "            'suggestCharts', [key], {});\n",
              "      } catch (error) {\n",
              "        console.error('Error during call to suggestCharts:', error);\n",
              "      }\n",
              "      quickchartButtonEl.classList.remove('colab-df-spinner');\n",
              "      quickchartButtonEl.classList.add('colab-df-quickchart-complete');\n",
              "    }\n",
              "    (() => {\n",
              "      let quickchartButtonEl =\n",
              "        document.querySelector('#df-df6d0e18-c48c-4c1a-86b6-0900d0802fbb button');\n",
              "      quickchartButtonEl.style.display =\n",
              "        google.colab.kernel.accessAllowed ? 'block' : 'none';\n",
              "    })();\n",
              "  </script>\n",
              "</div>\n",
              "\n",
              "    </div>\n",
              "  </div>\n"
            ],
            "application/vnd.google.colaboratory.intrinsic+json": {
              "type": "dataframe",
              "variable_name": "data",
              "summary": "{\n  \"name\": \"data\",\n  \"rows\": 1262,\n  \"fields\": [\n    {\n      \"column\": \"Unnamed: 0\",\n      \"properties\": {\n        \"dtype\": \"number\",\n        \"std\": 364,\n        \"min\": 10467,\n        \"max\": 11728,\n        \"num_unique_values\": 1262,\n        \"samples\": [\n          11673,\n          11335,\n          10999\n        ],\n        \"semantic_type\": \"\",\n        \"description\": \"\"\n      }\n    },\n    {\n      \"column\": \"Name\",\n      \"properties\": {\n        \"dtype\": \"category\",\n        \"num_unique_values\": 1,\n        \"samples\": [\n          \"Atos\"\n        ],\n        \"semantic_type\": \"\",\n        \"description\": \"\"\n      }\n    },\n    {\n      \"column\": \"Date\",\n      \"properties\": {\n        \"dtype\": \"date\",\n        \"min\": \"2015-01-02 00:00:00\",\n        \"max\": \"2019-12-30 00:00:00\",\n        \"num_unique_values\": 1262,\n        \"samples\": [\n          \"2015-03-20 00:00:00\"\n        ],\n        \"semantic_type\": \"\",\n        \"description\": \"\"\n      }\n    },\n    {\n      \"column\": \"Open\",\n      \"properties\": {\n        \"dtype\": \"number\",\n        \"std\": 15.712547568932187,\n        \"min\": 43.95,\n        \"max\": 97.92,\n        \"num_unique_values\": 1079,\n        \"samples\": [\n          89.55\n        ],\n        \"semantic_type\": \"\",\n        \"description\": \"\"\n      }\n    },\n    {\n      \"column\": \"Close\",\n      \"properties\": {\n        \"dtype\": \"number\",\n        \"std\": 15.703756926064452,\n        \"min\": 43.95,\n        \"max\": 98.1,\n        \"num_unique_values\": 1075,\n        \"samples\": [\n          93.17\n        ],\n        \"semantic_type\": \"\",\n        \"description\": \"\"\n      }\n    },\n    {\n      \"column\": \"Daily_High\",\n      \"properties\": {\n        \"dtype\": \"number\",\n        \"std\": 15.80768738479726,\n        \"min\": 43.95,\n        \"max\": 98.32,\n        \"num_unique_values\": 1081,\n        \"samples\": [\n          90.13\n        ],\n        \"semantic_type\": \"\",\n        \"description\": \"\"\n      }\n    },\n    {\n      \"column\": \"Daily_Low\",\n      \"properties\": {\n        \"dtype\": \"number\",\n        \"std\": 15.60204728523333,\n        \"min\": 43.95,\n        \"max\": 97.78,\n        \"num_unique_values\": 1086,\n        \"samples\": [\n          71.32\n        ],\n        \"semantic_type\": \"\",\n        \"description\": \"\"\n      }\n    },\n    {\n      \"column\": \"Volume\",\n      \"properties\": {\n        \"dtype\": \"category\",\n        \"num_unique_values\": 389,\n        \"samples\": [\n          \"172\"\n        ],\n        \"semantic_type\": \"\",\n        \"description\": \"\"\n      }\n    }\n  ]\n}"
            }
          },
          "metadata": {},
          "execution_count": 89
        }
      ]
    },
    {
      "cell_type": "code",
      "source": [
        "# Normalize data\n",
        "scaler = MinMaxScaler(feature_range=(0,1))\n",
        "scaled_data = scaler.fit_transform(data['Close'].values.reshape(-1,1))"
      ],
      "metadata": {
        "execution": {
          "iopub.status.busy": "2023-04-06T08:20:54.476397Z",
          "iopub.execute_input": "2023-04-06T08:20:54.476839Z",
          "iopub.status.idle": "2023-04-06T08:20:54.483483Z",
          "shell.execute_reply.started": "2023-04-06T08:20:54.476797Z",
          "shell.execute_reply": "2023-04-06T08:20:54.482331Z"
        },
        "trusted": true,
        "id": "CIfTfAAnTIBV"
      },
      "execution_count": null,
      "outputs": []
    },
    {
      "cell_type": "code",
      "source": [
        "# Set the number of days used for prediction\n",
        "prediction_days = 3\n",
        "\n",
        "# Initialize empty lists for training data input and output\n",
        "x_train = []\n",
        "y_train = []\n",
        "\n",
        "# Iterate through the scaled data, starting from the prediction_days index\n",
        "for x in range(prediction_days, len(scaled_data)):\n",
        "    # Append the previous 'prediction_days' values to x_train\n",
        "    x_train.append(scaled_data[x - prediction_days:x, 0])\n",
        "    # Append the current value to y_train\n",
        "    y_train.append(scaled_data[x, 0])\n",
        "\n",
        "# Convert the x_train and y_train lists to numpy arrays\n",
        "x_train, y_train = np.array(x_train), np.array(y_train)\n",
        "\n",
        "# Reshape x_train to a 3D array with the appropriate dimensions for the GRU model\n",
        "x_train = np.reshape(x_train, (x_train.shape[0], x_train.shape[1], 1))"
      ],
      "metadata": {
        "execution": {
          "iopub.status.busy": "2023-04-06T08:20:54.485384Z",
          "iopub.execute_input": "2023-04-06T08:20:54.485881Z",
          "iopub.status.idle": "2023-04-06T08:20:54.498056Z",
          "shell.execute_reply.started": "2023-04-06T08:20:54.485837Z",
          "shell.execute_reply": "2023-04-06T08:20:54.497082Z"
        },
        "trusted": true,
        "id": "p1KfiCdtTIBV"
      },
      "execution_count": null,
      "outputs": []
    },
    {
      "cell_type": "code",
      "source": [
        "def GRU_model():\n",
        "    \"\"\"\n",
        "    Create and configure an GRU model for stock price prediction.\n",
        "\n",
        "    :return: The configured GRU model (keras.Sequential)\n",
        "    \"\"\"\n",
        "\n",
        "    # Initialize a sequential model\n",
        "    model = Sequential()\n",
        "\n",
        "    # First GRU layer with increased units\n",
        "    model.add(Bidirectional(GRU(units=128, return_sequences=True, input_shape=(x_train.shape[1], 1))))\n",
        "    model.add(Dropout(0.3))  # Slightly increased dropout for regularization\n",
        "\n",
        "    # Second GRU layer\n",
        "    model.add(GRU(units=64, return_sequences=True))\n",
        "    model.add(Dropout(0.2))\n",
        "\n",
        "    # Third GRU layer\n",
        "    model.add(GRU(units=32))\n",
        "    model.add(Dropout(0.2))\n",
        "\n",
        "    # Dense output layer\n",
        "    model.add(Dense(units=1))\n",
        "\n",
        "    return model\n",
        "\n",
        "def GRU_model2():\n",
        "    # Build and train single layer GRU model\n",
        "    model = Sequential()\n",
        "    model.add(GRU(units=64, input_shape=(x_train.shape[1], 1)))\n",
        "    model.add(Dense(units=1))\n",
        "    return model\n"
      ],
      "metadata": {
        "execution": {
          "iopub.status.busy": "2023-04-06T08:20:54.499062Z",
          "iopub.execute_input": "2023-04-06T08:20:54.499341Z",
          "iopub.status.idle": "2023-04-06T08:20:54.514805Z",
          "shell.execute_reply.started": "2023-04-06T08:20:54.499314Z",
          "shell.execute_reply": "2023-04-06T08:20:54.513443Z"
        },
        "trusted": true,
        "id": "sAyJp7skTIBW"
      },
      "execution_count": null,
      "outputs": []
    },
    {
      "cell_type": "code",
      "source": [
        "# Training the model\n",
        "\n",
        "model = GRU_model()\n",
        "model.compile(\n",
        "    optimizer='adam',\n",
        "    loss='mean_squared_error'\n",
        ")\n",
        "model.summary()"
      ],
      "metadata": {
        "execution": {
          "iopub.status.busy": "2023-04-06T08:20:54.516349Z",
          "iopub.execute_input": "2023-04-06T08:20:54.516679Z",
          "iopub.status.idle": "2023-04-06T08:20:55.395558Z",
          "shell.execute_reply.started": "2023-04-06T08:20:54.516627Z",
          "shell.execute_reply": "2023-04-06T08:20:55.393322Z"
        },
        "trusted": true,
        "id": "ofurTusATIBX",
        "colab": {
          "base_uri": "https://localhost:8080/",
          "height": 253
        },
        "outputId": "e58664a4-f8eb-4659-c825-d9664e7c9d56"
      },
      "execution_count": null,
      "outputs": [
        {
          "output_type": "stream",
          "name": "stderr",
          "text": [
            "/usr/local/lib/python3.11/dist-packages/keras/src/layers/rnn/rnn.py:200: UserWarning: Do not pass an `input_shape`/`input_dim` argument to a layer. When using Sequential models, prefer using an `Input(shape)` object as the first layer in the model instead.\n",
            "  super().__init__(**kwargs)\n"
          ]
        },
        {
          "output_type": "display_data",
          "data": {
            "text/plain": [
              "\u001b[1mModel: \"sequential_12\"\u001b[0m\n"
            ],
            "text/html": [
              "<pre style=\"white-space:pre;overflow-x:auto;line-height:normal;font-family:Menlo,'DejaVu Sans Mono',consolas,'Courier New',monospace\"><span style=\"font-weight: bold\">Model: \"sequential_12\"</span>\n",
              "</pre>\n"
            ]
          },
          "metadata": {}
        },
        {
          "output_type": "display_data",
          "data": {
            "text/plain": [
              "┏━━━━━━━━━━━━━━━━━━━━━━━━━━━━━━━━━━━━━━┳━━━━━━━━━━━━━━━━━━━━━━━━━━━━━┳━━━━━━━━━━━━━━━━━┓\n",
              "┃\u001b[1m \u001b[0m\u001b[1mLayer (type)                        \u001b[0m\u001b[1m \u001b[0m┃\u001b[1m \u001b[0m\u001b[1mOutput Shape               \u001b[0m\u001b[1m \u001b[0m┃\u001b[1m \u001b[0m\u001b[1m        Param #\u001b[0m\u001b[1m \u001b[0m┃\n",
              "┡━━━━━━━━━━━━━━━━━━━━━━━━━━━━━━━━━━━━━━╇━━━━━━━━━━━━━━━━━━━━━━━━━━━━━╇━━━━━━━━━━━━━━━━━┩\n",
              "│ gru_26 (\u001b[38;5;33mGRU\u001b[0m)                         │ (\u001b[38;5;45mNone\u001b[0m, \u001b[38;5;34m64\u001b[0m)                  │          \u001b[38;5;34m12,864\u001b[0m │\n",
              "├──────────────────────────────────────┼─────────────────────────────┼─────────────────┤\n",
              "│ dense_9 (\u001b[38;5;33mDense\u001b[0m)                      │ (\u001b[38;5;45mNone\u001b[0m, \u001b[38;5;34m1\u001b[0m)                   │              \u001b[38;5;34m65\u001b[0m │\n",
              "└──────────────────────────────────────┴─────────────────────────────┴─────────────────┘\n"
            ],
            "text/html": [
              "<pre style=\"white-space:pre;overflow-x:auto;line-height:normal;font-family:Menlo,'DejaVu Sans Mono',consolas,'Courier New',monospace\">┏━━━━━━━━━━━━━━━━━━━━━━━━━━━━━━━━━━━━━━┳━━━━━━━━━━━━━━━━━━━━━━━━━━━━━┳━━━━━━━━━━━━━━━━━┓\n",
              "┃<span style=\"font-weight: bold\"> Layer (type)                         </span>┃<span style=\"font-weight: bold\"> Output Shape                </span>┃<span style=\"font-weight: bold\">         Param # </span>┃\n",
              "┡━━━━━━━━━━━━━━━━━━━━━━━━━━━━━━━━━━━━━━╇━━━━━━━━━━━━━━━━━━━━━━━━━━━━━╇━━━━━━━━━━━━━━━━━┩\n",
              "│ gru_26 (<span style=\"color: #0087ff; text-decoration-color: #0087ff\">GRU</span>)                         │ (<span style=\"color: #00d7ff; text-decoration-color: #00d7ff\">None</span>, <span style=\"color: #00af00; text-decoration-color: #00af00\">64</span>)                  │          <span style=\"color: #00af00; text-decoration-color: #00af00\">12,864</span> │\n",
              "├──────────────────────────────────────┼─────────────────────────────┼─────────────────┤\n",
              "│ dense_9 (<span style=\"color: #0087ff; text-decoration-color: #0087ff\">Dense</span>)                      │ (<span style=\"color: #00d7ff; text-decoration-color: #00d7ff\">None</span>, <span style=\"color: #00af00; text-decoration-color: #00af00\">1</span>)                   │              <span style=\"color: #00af00; text-decoration-color: #00af00\">65</span> │\n",
              "└──────────────────────────────────────┴─────────────────────────────┴─────────────────┘\n",
              "</pre>\n"
            ]
          },
          "metadata": {}
        },
        {
          "output_type": "display_data",
          "data": {
            "text/plain": [
              "\u001b[1m Total params: \u001b[0m\u001b[38;5;34m12,929\u001b[0m (50.50 KB)\n"
            ],
            "text/html": [
              "<pre style=\"white-space:pre;overflow-x:auto;line-height:normal;font-family:Menlo,'DejaVu Sans Mono',consolas,'Courier New',monospace\"><span style=\"font-weight: bold\"> Total params: </span><span style=\"color: #00af00; text-decoration-color: #00af00\">12,929</span> (50.50 KB)\n",
              "</pre>\n"
            ]
          },
          "metadata": {}
        },
        {
          "output_type": "display_data",
          "data": {
            "text/plain": [
              "\u001b[1m Trainable params: \u001b[0m\u001b[38;5;34m12,929\u001b[0m (50.50 KB)\n"
            ],
            "text/html": [
              "<pre style=\"white-space:pre;overflow-x:auto;line-height:normal;font-family:Menlo,'DejaVu Sans Mono',consolas,'Courier New',monospace\"><span style=\"font-weight: bold\"> Trainable params: </span><span style=\"color: #00af00; text-decoration-color: #00af00\">12,929</span> (50.50 KB)\n",
              "</pre>\n"
            ]
          },
          "metadata": {}
        },
        {
          "output_type": "display_data",
          "data": {
            "text/plain": [
              "\u001b[1m Non-trainable params: \u001b[0m\u001b[38;5;34m0\u001b[0m (0.00 B)\n"
            ],
            "text/html": [
              "<pre style=\"white-space:pre;overflow-x:auto;line-height:normal;font-family:Menlo,'DejaVu Sans Mono',consolas,'Courier New',monospace\"><span style=\"font-weight: bold\"> Non-trainable params: </span><span style=\"color: #00af00; text-decoration-color: #00af00\">0</span> (0.00 B)\n",
              "</pre>\n"
            ]
          },
          "metadata": {}
        }
      ]
    },
    {
      "cell_type": "code",
      "source": [
        "model.fit(\n",
        "    x_train,\n",
        "    y_train,\n",
        "    epochs=20,\n",
        "    batch_size = 32\n",
        ")"
      ],
      "metadata": {
        "execution": {
          "iopub.status.busy": "2023-04-06T08:20:55.3969Z",
          "iopub.execute_input": "2023-04-06T08:20:55.397291Z",
          "iopub.status.idle": "2023-04-06T08:22:19.391766Z",
          "shell.execute_reply.started": "2023-04-06T08:20:55.397258Z",
          "shell.execute_reply": "2023-04-06T08:22:19.390736Z"
        },
        "trusted": true,
        "id": "-3kipK4uTIBX",
        "colab": {
          "base_uri": "https://localhost:8080/"
        },
        "outputId": "89e936a8-6b51-4cb7-e475-d3baf91220b2"
      },
      "execution_count": null,
      "outputs": [
        {
          "output_type": "stream",
          "name": "stdout",
          "text": [
            "Epoch 1/20\n",
            "\u001b[1m40/40\u001b[0m \u001b[32m━━━━━━━━━━━━━━━━━━━━\u001b[0m\u001b[37m\u001b[0m \u001b[1m2s\u001b[0m 3ms/step - loss: 0.1039\n",
            "Epoch 2/20\n",
            "\u001b[1m40/40\u001b[0m \u001b[32m━━━━━━━━━━━━━━━━━━━━\u001b[0m\u001b[37m\u001b[0m \u001b[1m0s\u001b[0m 4ms/step - loss: 0.0077\n",
            "Epoch 3/20\n",
            "\u001b[1m40/40\u001b[0m \u001b[32m━━━━━━━━━━━━━━━━━━━━\u001b[0m\u001b[37m\u001b[0m \u001b[1m0s\u001b[0m 3ms/step - loss: 0.0012\n",
            "Epoch 4/20\n",
            "\u001b[1m40/40\u001b[0m \u001b[32m━━━━━━━━━━━━━━━━━━━━\u001b[0m\u001b[37m\u001b[0m \u001b[1m0s\u001b[0m 3ms/step - loss: 8.1466e-04\n",
            "Epoch 5/20\n",
            "\u001b[1m40/40\u001b[0m \u001b[32m━━━━━━━━━━━━━━━━━━━━\u001b[0m\u001b[37m\u001b[0m \u001b[1m0s\u001b[0m 3ms/step - loss: 8.1892e-04\n",
            "Epoch 6/20\n",
            "\u001b[1m40/40\u001b[0m \u001b[32m━━━━━━━━━━━━━━━━━━━━\u001b[0m\u001b[37m\u001b[0m \u001b[1m0s\u001b[0m 3ms/step - loss: 8.0134e-04\n",
            "Epoch 7/20\n",
            "\u001b[1m40/40\u001b[0m \u001b[32m━━━━━━━━━━━━━━━━━━━━\u001b[0m\u001b[37m\u001b[0m \u001b[1m0s\u001b[0m 3ms/step - loss: 7.7246e-04\n",
            "Epoch 8/20\n",
            "\u001b[1m40/40\u001b[0m \u001b[32m━━━━━━━━━━━━━━━━━━━━\u001b[0m\u001b[37m\u001b[0m \u001b[1m0s\u001b[0m 3ms/step - loss: 7.7405e-04\n",
            "Epoch 9/20\n",
            "\u001b[1m40/40\u001b[0m \u001b[32m━━━━━━━━━━━━━━━━━━━━\u001b[0m\u001b[37m\u001b[0m \u001b[1m0s\u001b[0m 3ms/step - loss: 9.5675e-04\n",
            "Epoch 10/20\n",
            "\u001b[1m40/40\u001b[0m \u001b[32m━━━━━━━━━━━━━━━━━━━━\u001b[0m\u001b[37m\u001b[0m \u001b[1m0s\u001b[0m 3ms/step - loss: 7.3773e-04\n",
            "Epoch 11/20\n",
            "\u001b[1m40/40\u001b[0m \u001b[32m━━━━━━━━━━━━━━━━━━━━\u001b[0m\u001b[37m\u001b[0m \u001b[1m0s\u001b[0m 3ms/step - loss: 6.9595e-04\n",
            "Epoch 12/20\n",
            "\u001b[1m40/40\u001b[0m \u001b[32m━━━━━━━━━━━━━━━━━━━━\u001b[0m\u001b[37m\u001b[0m \u001b[1m0s\u001b[0m 3ms/step - loss: 9.3906e-04\n",
            "Epoch 13/20\n",
            "\u001b[1m40/40\u001b[0m \u001b[32m━━━━━━━━━━━━━━━━━━━━\u001b[0m\u001b[37m\u001b[0m \u001b[1m0s\u001b[0m 3ms/step - loss: 8.3425e-04\n",
            "Epoch 14/20\n",
            "\u001b[1m40/40\u001b[0m \u001b[32m━━━━━━━━━━━━━━━━━━━━\u001b[0m\u001b[37m\u001b[0m \u001b[1m0s\u001b[0m 4ms/step - loss: 8.1170e-04\n",
            "Epoch 15/20\n",
            "\u001b[1m40/40\u001b[0m \u001b[32m━━━━━━━━━━━━━━━━━━━━\u001b[0m\u001b[37m\u001b[0m \u001b[1m0s\u001b[0m 3ms/step - loss: 8.4323e-04\n",
            "Epoch 16/20\n",
            "\u001b[1m40/40\u001b[0m \u001b[32m━━━━━━━━━━━━━━━━━━━━\u001b[0m\u001b[37m\u001b[0m \u001b[1m0s\u001b[0m 4ms/step - loss: 7.1134e-04\n",
            "Epoch 17/20\n",
            "\u001b[1m40/40\u001b[0m \u001b[32m━━━━━━━━━━━━━━━━━━━━\u001b[0m\u001b[37m\u001b[0m \u001b[1m0s\u001b[0m 7ms/step - loss: 6.6994e-04\n",
            "Epoch 18/20\n",
            "\u001b[1m40/40\u001b[0m \u001b[32m━━━━━━━━━━━━━━━━━━━━\u001b[0m\u001b[37m\u001b[0m \u001b[1m0s\u001b[0m 5ms/step - loss: 7.2600e-04\n",
            "Epoch 19/20\n",
            "\u001b[1m40/40\u001b[0m \u001b[32m━━━━━━━━━━━━━━━━━━━━\u001b[0m\u001b[37m\u001b[0m \u001b[1m0s\u001b[0m 4ms/step - loss: 0.0011\n",
            "Epoch 20/20\n",
            "\u001b[1m40/40\u001b[0m \u001b[32m━━━━━━━━━━━━━━━━━━━━\u001b[0m\u001b[37m\u001b[0m \u001b[1m0s\u001b[0m 4ms/step - loss: 6.7107e-04\n"
          ]
        },
        {
          "output_type": "execute_result",
          "data": {
            "text/plain": [
              "<keras.src.callbacks.history.History at 0x7d6329ab67d0>"
            ]
          },
          "metadata": {},
          "execution_count": 100
        }
      ]
    },
    {
      "cell_type": "code",
      "source": [
        "# Load test data for the specified company and date range\n",
        "TEST_COMPANY = COMPANY\n",
        "test_data = load_data(company=TEST_COMPANY,\n",
        "    start=START_DATE_TEST,\n",
        "    end=dt.datetime.now()\n",
        ")\n",
        "\n",
        "# Extract the actual closing prices from the test data\n",
        "actual_prices = test_data['Close'].values\n",
        "\n",
        "# Concatenate the training and test data along the 'Close' column\n",
        "total_dataset = pd.concat((data['Close'], test_data['Close']), axis=0)\n",
        "\n",
        "# Extract the relevant portion of the dataset for model inputs\n",
        "model_inputs = total_dataset[len(total_dataset) - len(test_data) - prediction_days:].values\n",
        "\n",
        "# Reshape the model inputs to a 2D array with a single column\n",
        "model_inputs = model_inputs.reshape(-1, 1)\n",
        "\n",
        "# Apply the same scaling used for training data to the model inputs\n",
        "model_inputs = scaler.transform(model_inputs)"
      ],
      "metadata": {
        "execution": {
          "iopub.status.busy": "2023-04-06T08:22:19.39293Z",
          "iopub.execute_input": "2023-04-06T08:22:19.39336Z",
          "iopub.status.idle": "2023-04-06T08:22:19.419319Z",
          "shell.execute_reply.started": "2023-04-06T08:22:19.393328Z",
          "shell.execute_reply": "2023-04-06T08:22:19.418396Z"
        },
        "trusted": true,
        "id": "3CKSSniSTIBX"
      },
      "execution_count": null,
      "outputs": []
    },
    {
      "cell_type": "code",
      "source": [
        "# Initialize an empty list for test data input\n",
        "x_test = []\n",
        "# Iterate through the model inputs, starting from the prediction_days index\n",
        "for x in range(prediction_days, len(model_inputs)):\n",
        "    # Append the previous 'prediction_days' values to x_test\n",
        "    x_test.append(model_inputs[x-prediction_days:x, 0])\n",
        "# Convert the x_test list to a numpy array\n",
        "x_test = np.array(x_test)\n",
        "\n",
        "# Reshape x_test to a 3D array with the appropriate dimensions for the GRU model\n",
        "x_test = np.reshape(x_test, (x_test.shape[0], x_test.shape[1], 1))\n",
        "\n",
        "# Generate price predictions using the GRU model\n",
        "predicted_prices = model.predict(x_test)\n",
        "\n",
        "# Invert the scaling applied to the predicted prices to obtain actual values\n",
        "predicted_prices = scaler.inverse_transform(predicted_prices)"
      ],
      "metadata": {
        "execution": {
          "iopub.status.busy": "2023-04-06T08:22:19.420466Z",
          "iopub.execute_input": "2023-04-06T08:22:19.420789Z",
          "iopub.status.idle": "2023-04-06T08:22:20.513291Z",
          "shell.execute_reply.started": "2023-04-06T08:22:19.420759Z",
          "shell.execute_reply": "2023-04-06T08:22:20.512399Z"
        },
        "trusted": true,
        "id": "WAOxDxCVTIBX",
        "colab": {
          "base_uri": "https://localhost:8080/"
        },
        "outputId": "ee739a90-710c-4210-8ba9-796c73404380"
      },
      "execution_count": null,
      "outputs": [
        {
          "output_type": "stream",
          "name": "stdout",
          "text": [
            "\u001b[1m3/3\u001b[0m \u001b[32m━━━━━━━━━━━━━━━━━━━━\u001b[0m\u001b[37m\u001b[0m \u001b[1m0s\u001b[0m 81ms/step\n"
          ]
        }
      ]
    },
    {
      "cell_type": "code",
      "source": [
        "# Plot the actual prices using a black line\n",
        "plt.plot(actual_prices, color='black', label=f\"Actual {COMPANY} price\")\n",
        "\n",
        "# Plot the predicted prices using a green line\n",
        "plt.plot(predicted_prices, color='green', label=f\"Predicted {COMPANY} price\")\n",
        "\n",
        "# Set the title of the plot using the company name\n",
        "plt.title(f\"{COMPANY} share price\")\n",
        "\n",
        "# Set the x-axis label as 'time'\n",
        "plt.xlabel(\"time\")\n",
        "\n",
        "# Set the y-axis label using the company name\n",
        "plt.ylabel(f\"{COMPANY} share price\")\n",
        "\n",
        "# Display a legend to differentiate the actual and predicted prices\n",
        "plt.legend()\n",
        "\n",
        "# Show the plot on the screen\n",
        "plt.show()"
      ],
      "metadata": {
        "execution": {
          "iopub.status.busy": "2023-04-06T08:22:20.514396Z",
          "iopub.execute_input": "2023-04-06T08:22:20.514923Z",
          "iopub.status.idle": "2023-04-06T08:22:20.753429Z",
          "shell.execute_reply.started": "2023-04-06T08:22:20.514887Z",
          "shell.execute_reply": "2023-04-06T08:22:20.752181Z"
        },
        "trusted": true,
        "id": "5nfLoHizTIBY",
        "colab": {
          "base_uri": "https://localhost:8080/",
          "height": 472
        },
        "outputId": "2f21c273-2130-4f55-fde1-b957cd31097f"
      },
      "execution_count": null,
      "outputs": [
        {
          "output_type": "display_data",
          "data": {
            "text/plain": [
              "<Figure size 640x480 with 1 Axes>"
            ],
            "image/png": "[encoded data removed]"
          },
          "metadata": {}
        }
      ]
    },
    {
      "cell_type": "code",
      "source": [
        "# Extract the last 'prediction_days' values from the model inputs\n",
        "#real_data = [model_inputs[len(model_inputs) + 1 - prediction_days:len(model_inputs + 1), 0]]\n",
        "real_data = model_inputs[-prediction_days:]\n",
        "\n",
        "\n",
        "# Convert the real_data list to a numpy array\n",
        "real_data = np.array(real_data)\n",
        "\n",
        "# Reshape real_data to a 3D array with the appropriate dimensions for the GRU model\n",
        "real_data = np.reshape(real_data, (real_data.shape[0], real_data.shape[1], 1))\n",
        "\n",
        "# Generate a prediction using the GRU model with the real_data input\n",
        "prediction = model.predict(real_data)\n",
        "\n",
        "# Invert the scaling applied to the prediction to obtain the actual value\n",
        "prediction = scaler.inverse_transform(prediction)\n",
        "\n",
        "# Print the prediction result to the console\n",
        "print(f\"Prediction: {prediction[0][0]}\")"
      ],
      "metadata": {
        "execution": {
          "iopub.status.busy": "2023-04-06T08:22:20.755136Z",
          "iopub.execute_input": "2023-04-06T08:22:20.7556Z",
          "iopub.status.idle": "2023-04-06T08:22:21.820519Z",
          "shell.execute_reply.started": "2023-04-06T08:22:20.755562Z",
          "shell.execute_reply": "2023-04-06T08:22:21.819404Z"
        },
        "trusted": true,
        "id": "MKN6AJVBTIBY",
        "colab": {
          "base_uri": "https://localhost:8080/"
        },
        "outputId": "db77d17e-80cc-4ffa-c715-af4e8aab4da2"
      },
      "execution_count": null,
      "outputs": [
        {
          "output_type": "stream",
          "name": "stdout",
          "text": [
            "\u001b[1m1/1\u001b[0m \u001b[32m━━━━━━━━━━━━━━━━━━━━\u001b[0m\u001b[37m\u001b[0m \u001b[1m0s\u001b[0m 181ms/step\n",
            "Prediction: 55.289649963378906\n"
          ]
        }
      ]
    }
  ]
}